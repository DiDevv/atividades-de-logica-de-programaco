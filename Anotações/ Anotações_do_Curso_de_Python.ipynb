{
  "nbformat": 4,
  "nbformat_minor": 0,
  "metadata": {
    "colab": {
      "provenance": [],
      "authorship_tag": "ABX9TyMg9wPhB+Qml/a4u5OL17UD",
      "include_colab_link": true
    },
    "kernelspec": {
      "name": "python3",
      "display_name": "Python 3"
    },
    "language_info": {
      "name": "python"
    }
  },
  "cells": [
    {
      "cell_type": "markdown",
      "metadata": {
        "id": "view-in-github",
        "colab_type": "text"
      },
      "source": [
        "<a href=\"https://colab.research.google.com/github/DiDevv/atividades-de-logica-de-programaco/blob/main/Anota%C3%A7%C3%B5es_do_Curso_de_Python.ipynb\" target=\"_parent\"><img src=\"https://colab.research.google.com/assets/colab-badge.svg\" alt=\"Open In Colab\"/></a>"
      ]
    },
    {
      "cell_type": "markdown",
      "source": [
        "#Anotações do Curso de Python da DIO, do básico ao avançado!"
      ],
      "metadata": {
        "id": "kae05UBAVjon"
      }
    },
    {
      "cell_type": "markdown",
      "source": [
        "É interessante pontuar que: \n",
        "Algumas anotações foram perdidas ou não estão bem feitas, por exemplo, os conceitos básicos que eu já sabia, então acrescentei apenas algumas curiosidades. Estou apenas documentando para enventuais consultas e indicação para pessoas que estão começando e querem agilizar os estudos! ^^"
      ],
      "metadata": {
        "id": "tQPphZG1VrGW"
      }
    },
    {
      "cell_type": "markdown",
      "source": [
        "##Manipulação das Variáveis"
      ],
      "metadata": {
        "id": "Nwobzf-RV5Rt"
      }
    },
    {
      "cell_type": "markdown",
      "source": [
        "A manipulação das variáveis é extremamente útil no dia a dia. A ferramenta .format é bastante utilizada. Um exemplo disso, foi quando fiz uma calculadora básica e quis espaçar as linhas dos resultados através do \\n , não seria possível sem antes formatar os valores em string, e o .format foi uma mão na roda.\n",
        "\n",
        "Há outras funcionalidades na manipulação de variáveis, é sempre bom ter o controle de conversão de tipos para ocasiões especiais, para descobrir o tipo de uma variável é utilizado o type(), e para convertê-la, é só utilizar o tipo que você quer converter com o que será convertido, exemplo: str(x).\n",
        "\n",
        "Ps: Só não tente converter um divisão para tipo inteiro, seu computador pode fritar no processo! Não diga que não avisei…**🤯**"
      ],
      "metadata": {
        "id": "INnQA3poWHTF"
      }
    },
    {
      "cell_type": "markdown",
      "source": [
        "##Criar códigos em Python que funcione de acordo com a Relação das Variáveis"
      ],
      "metadata": {
        "id": "PiZstZvqWLT1"
      }
    },
    {
      "cell_type": "markdown",
      "source": [
        "Utilizando as condicionais podemos criar códigos que funcionam de acordo com as relações das variáveis. Para isso temos o if, else, elif, and, or, not(serve para inverter o valor lógico de true pra false e de false pra true)… \n",
        "\n",
        "alguns exemplos de códigos:"
      ],
      "metadata": {
        "id": "SAYnttuAWO7d"
      }
    },
    {
      "cell_type": "code",
      "source": [
        "#Quem ganhou mais prêmios?\n",
        "import random\n",
        "taylor = random.randint(1,156)\n",
        "adele = random.randint(1,157)\n",
        "#Utilizo o print abaixo como forma de teste para verificar a eficácia do programa\n",
        "print('taylor:{}, adele:{} '.format(taylor, adele))\n",
        "\n",
        "a = input(\"Quem recebeu mais prêmios?\")\n",
        "if taylor > adele and a == 'taylor':\n",
        "  print('CORRETO!')\n",
        "elif adele > taylor and a=='adele':\n",
        "  print('CORRETO!')\n",
        "else:\n",
        "  print('Que pena, você ERROU!')\n",
        "\n",
        "#Número é par?\n",
        "a = float(input('Número: '))\n",
        "if a % 2 == 0:\n",
        "  print('É par!')\n",
        "else:\n",
        "  print('É ímpar!')\n",
        "\n",
        "#Qual número é maior?\n",
        "a = int(input('Primeiro valor'))\n",
        "b = int(input('Segundo valor'))\n",
        "c = int(input('Terceiro valor'))\n",
        " if a > b and a > c:\n",
        "   print('O maior número é {}'.format(a))\n",
        " elif b > a and b > c:\n",
        "   print('O maior número é {}'.format(b))\n",
        " else:\n",
        "   print('O maior número é {}'.format(c))"
      ],
      "metadata": {
        "id": "K1Q0xvs9WQzc"
      },
      "execution_count": null,
      "outputs": []
    },
    {
      "cell_type": "markdown",
      "source": [
        "##Estruturas de Repetição"
      ],
      "metadata": {
        "id": "6SqpLA6FWXQk"
      }
    },
    {
      "cell_type": "markdown",
      "source": [
        "As estruturas de repetição são de fato uma mão na roda para validações, contagens, dentre outras funcionalidades."
      ],
      "metadata": {
        "id": "la-u2LhrWZcu"
      }
    },
    {
      "cell_type": "markdown",
      "source": [
        "As estruturas de repetição são de fato uma mão na roda para validações, contagens, dentre outras funcionalidades.\n",
        "\n",
        "Temos as estruturas FOR e WHILE. A escolha do uso de laço de repetição depende muito do que for ser feito, em algumas linguagens o for é mais otimizado que o while, como por exemplo em C.\n",
        "\n",
        "O laço FOR é utilizado quando sabemos o número de repetições que devemos fazer, também é muito utilizado para manipulação de listas, diferente do WHILE que utilizamos quando temos ideia do que queremos fazer mas sem a noção de quantas vezes repetir, exemplo:"
      ],
      "metadata": {
        "id": "s_HcTqd6WpGO"
      }
    },
    {
      "cell_type": "code",
      "source": [
        "while (!algumaCondicao()){\n",
        "     // Remove elemento (s)\n",
        "     // Adiciona elemento (s)\n",
        "}"
      ],
      "metadata": {
        "id": "F21iyZpwWcL9"
      },
      "execution_count": null,
      "outputs": []
    },
    {
      "cell_type": "markdown",
      "source": [
        "”No fundo não faz sentido usar `for`\n",
        " se você não precisa de um contador, já que ele é baseado nisso.”\n",
        "\n",
        "Utilizando o for, temos um exemplo de programa que descobre se o número é primo ou não:"
      ],
      "metadata": {
        "id": "Vkw7tdQjWdAd"
      }
    },
    {
      "cell_type": "code",
      "source": [
        "a = int(input('Qual o número? '))\n",
        "\n",
        "div = 0\n",
        "for x in range(1, a+1):\n",
        "  resto = a % x\n",
        "  print(resto, x)\n",
        "  if resto == 0:\n",
        "    div += 1\n",
        "\n",
        "if div == 2:\n",
        "  print('O número {} é primo!'.format(a))\n",
        "else:\n",
        "  print('Saporra não é primo!')"
      ],
      "metadata": {
        "id": "zXAY4QSWWio9"
      },
      "execution_count": null,
      "outputs": []
    },
    {
      "cell_type": "markdown",
      "source": [
        "##Organizando Dados em listas e tuplas"
      ],
      "metadata": {
        "id": "ZwwkwK5tW0D-"
      }
    },
    {
      "cell_type": "markdown",
      "source": [
        "Qual a diferença de uma Tupla( ) para uma Lista[ ]?\n",
        "\n",
        "A Tupla ela é imutável, diferente da Lista que é manipulável.\n",
        "\n",
        "Utilizamos o ‘tuple’ para converter listas em tuplas\n",
        "\n",
        "Utilizamos o ‘list’ para converter tuplas em listas\n",
        "\n",
        "Abaixo estão alguns comandos principais para manipulação de listas em python:\n",
        "\n",
        ".append() = adiciona \n",
        "\n",
        "if ‘talcoisa’ in talLista  (Verifica se há um item específico na lista)\n",
        "\n",
        "print (existe)\n",
        "\n",
        ".pop() = retira o ultimo item que foi adicionado na lista, se você especificar qual, ele também remove, exemplo .pop(1)\n",
        "\n",
        ".remove() = remove pelo nome\n",
        "\n",
        ".sort() = ordena a lista\n",
        "\n",
        ".reverse = como o próprio nome já diz, ele ordena do começo pro final\n",
        "\n",
        ".len()= serve pra descobrir quantos elementos tem na lista (TAMBÉM FUNCIONA PARA TUPLA)\n",
        "\n",
        ".del() = deleta completamente a lista se não tiver um parâmetro, cuidado!\n",
        "\n",
        "Podemos separar Strings em substrings transformando-as em listas com o .split"
      ],
      "metadata": {
        "id": "qOYnO3C1W5iA"
      }
    },
    {
      "cell_type": "markdown",
      "source": [
        "##Organizando conjuntos e Subconjuntos de elementos em Python"
      ],
      "metadata": {
        "id": "JRPeLLq_W-wW"
      }
    },
    {
      "cell_type": "markdown",
      "source": [
        "Para criarmos conjuntos utilizamos ‘{}’ chaves. O conjunto é do tipo SET."
      ],
      "metadata": {
        "id": "5ruNH21SXCVV"
      }
    },
    {
      "cell_type": "code",
      "source": [
        "conjunto = {1, 2, 3, 4, 5}\n",
        "print(type(conjunto))\n",
        "conjunto2 = {1, 1, 2, 3, 4, 5}\n",
        "print(conjunto2)"
      ],
      "metadata": {
        "id": "V2V-FUrEW_8-"
      },
      "execution_count": null,
      "outputs": []
    },
    {
      "cell_type": "markdown",
      "source": [
        "Um ponto positivo dos conjuntos é que ele é um elemento que não apresenta duplicidade."
      ],
      "metadata": {
        "id": "Vb4ZW_EiXKAF"
      }
    },
    {
      "cell_type": "markdown",
      "source": [
        "Para adicionar item a conjuntos utilizamos o .add()\n",
        "Para descartarmos item de conjuntos utilizamos o .discard()\n",
        "\n",
        "Aqui nos conjuntos, podemos utilizar os métodos de conjuntos aritméticos como:"
      ],
      "metadata": {
        "id": "9A0QNHDzXWym"
      }
    },
    {
      "cell_type": "code",
      "source": [
        "conjunto_uniao = conjunto.union(conjunto2)\n",
        "print(conjunto_uniao)\n",
        "\n",
        "conjunto_intercecao = conjunto.intersection(conjunto2)\n",
        "print(conjunto_intercecao)\n",
        "\n",
        "conjunto_diferenca = conjunto.difference(conjunto2)\n",
        "print(conjunto_diferenca)\n",
        "\n",
        "diferenca_simetrica = conjunto.symmetric_difference(conjunto2)\n",
        "print(diferenca_simetrica)"
      ],
      "metadata": {
        "id": "hKa8_9NEXbvu"
      },
      "execution_count": null,
      "outputs": []
    },
    {
      "cell_type": "markdown",
      "source": [
        "Comandos:\n",
        ".union() para união\n",
        "\n",
        ".intersection() para intercessão \n",
        "\n",
        ".difference() para diferença\n",
        "\n",
        ".symmetric_difference() para diferença simétrica \n",
        "\n",
        ".issubset() para saber se um conjunto é subconjunto do outro\n",
        "\n",
        ".issuperset() para saber se um conjunto é “sobreconjunto” do outro"
      ],
      "metadata": {
        "id": "bHNV3cG_Y2WF"
      }
    },
    {
      "cell_type": "markdown",
      "source": [
        "Podemos transformar listas em conjuntos para remover a duplicação de itens. (Altera a ordem dos itens, caso precise que não altere, há outros métodos.)"
      ],
      "metadata": {
        "id": "a00uwDw3Y3zW"
      }
    },
    {
      "cell_type": "markdown",
      "source": [
        "##Construindo métodos, funções e classes em Python"
      ],
      "metadata": {
        "id": "B7Q3rMojY7ol"
      }
    },
    {
      "cell_type": "markdown",
      "source": [
        "Diferença de método e funções:\n",
        "\n",
        "Funções retornam valor, métodos não.\n",
        "\n",
        "Utilizando métodos e classe, fiz uma calculadora com as quatro operações instanciando os objetos:"
      ],
      "metadata": {
        "id": "6Q4qSonMY96m"
      }
    },
    {
      "cell_type": "code",
      "source": [
        "class Calculadora:\n",
        "  def __init__(self, num1, num2):\n",
        "    self.a = num1\n",
        "    self.b = num2\n",
        "\n",
        "  def soma(self):\n",
        "    return self.a + self.b\n",
        "\n",
        "  def sub(self):\n",
        "    return self.a - self.b\n",
        "\n",
        "  def mult(self):\n",
        "    return self.a * self.b\n",
        "\n",
        "  def div(self):\n",
        "    return self.a / self.b\n",
        "\n",
        "calculadora = Calculadora(10, 2)\n",
        "print(calculadora.soma())\n",
        "print(calculadora.sub())\n",
        "print(calculadora.mult())\n",
        "print(calculadora.div())"
      ],
      "metadata": {
        "id": "mvwCkoruY_5V"
      },
      "execution_count": null,
      "outputs": []
    },
    {
      "cell_type": "markdown",
      "source": [
        "Nessa outra, não instanciamos, definimos os valores no objeto em si, e adicionamos o pass embaixo do init que não pode ficar vazio para ignorar, ou simplesmente não utilizar o init."
      ],
      "metadata": {
        "id": "eu6A13epZCR1"
      }
    },
    {
      "cell_type": "code",
      "source": [
        "class Calculadora:\n",
        "\n",
        "  def soma(self, a, b):\n",
        "    return a + b\n",
        "\n",
        "  def sub(self, a, b):\n",
        "    return a - b\n",
        "\n",
        "  def mult(self, a, b):\n",
        "    return a * b\n",
        "\n",
        "  def div(self, a, b):\n",
        "    return a / b\n",
        "\n",
        "calculadora = Calculadora()\n",
        "print(calculadora.soma(1, 2))\n",
        "print(calculadora.sub(2, 3))\n",
        "print(calculadora.mult(4, 5))\n",
        "print(calculadora.div(3, 2))"
      ],
      "metadata": {
        "id": "8OatQVojZD1F"
      },
      "execution_count": null,
      "outputs": []
    },
    {
      "cell_type": "markdown",
      "source": [
        "Por que utilizar o init?"
      ],
      "metadata": {
        "id": "whMk1ghtZFl9"
      }
    },
    {
      "cell_type": "markdown",
      "source": [
        ">“Bom, a função init\n",
        " ,também chamada de \"método construtor\", possui a responsabilidade de criar o objeto daquela classe. Nem sempre você precisará cria-lá, porém, se o seu projeto exige que você utilize essa função, nela será contida todas as informações principais do objeto. Um exemplo disso pode ser o objeto \"Pessoa\":"
      ],
      "metadata": {
        "id": "MAzX2ClZZG3N"
      }
    },
    {
      "cell_type": "code",
      "source": [
        "class Pessoa:\n",
        "    def __init__(self, nome, idade):\n",
        "        self.nome = nome\n",
        "        self.idade = idade"
      ],
      "metadata": {
        "id": "N_6XjVR_ZKN9"
      },
      "execution_count": null,
      "outputs": []
    },
    {
      "cell_type": "markdown",
      "source": [
        ">“A partir de agora, podemos utilizar os atributos do objeto \"Pessoa\" , idade e nome, para outros métodos ou outras sub-classes."
      ],
      "metadata": {
        "id": "IZea73dcZKoV"
      }
    },
    {
      "cell_type": "code",
      "source": [
        "class Televisao:\n",
        "  def __init__(self):\n",
        "    self.ligada = False\n",
        "    self.canal = 5\n",
        "\n",
        "  def power(self):\n",
        "    if self.ligada:\n",
        "      self.ligada = False\n",
        "    else:\n",
        "      self.ligada = True\n",
        "  \n",
        "  def aumentacanal(self):\n",
        "    self.canal += 1\n",
        "  \n",
        "  def diminuicanal(self):\n",
        "    self.canal -= 1\n",
        "\n",
        "\n",
        "televisao = Televisao()\n",
        "print('A televisão está ligada: {} '.format(televisao.ligada))\n",
        "televisao.power()\n",
        "print('A televisão está ligada: {} '.format(televisao.ligada))\n",
        "print('Canal: {}'.format(televisao.canal))\n",
        "televisao.aumentacanal()\n",
        "print('Canal: {}'.format(televisao.canal))\n",
        "televisao.diminuicanal()\n",
        "print('Canal: {}'.format(televisao.canal))"
      ],
      "metadata": {
        "colab": {
          "base_uri": "https://localhost:8080/"
        },
        "id": "Sqc3wBD-ZMxt",
        "outputId": "278ed6dc-f521-4654-95c5-6b3e7ef7e76e"
      },
      "execution_count": 20,
      "outputs": [
        {
          "output_type": "stream",
          "name": "stdout",
          "text": [
            "A televisão está ligada: False \n",
            "A televisão está ligada: True \n",
            "Canal: 5\n",
            "Canal: 6\n",
            "Canal: 5\n"
          ]
        }
      ]
    },
    {
      "cell_type": "markdown",
      "source": [
        "##Lidando com Módulos, importação de classes, métodos e construção de funções anônimas (Lambda)"
      ],
      "metadata": {
        "id": "2odB4P6zZOXt"
      }
    },
    {
      "cell_type": "markdown",
      "source": [
        "Bom, os arquivos.py são módulos nos editores de texto. Podemos importar esses módulos em diversos outros módulos para evitar ter que criar tudo do zero."
      ],
      "metadata": {
        "id": "A-rZ1hL_ZQU0"
      }
    },
    {
      "cell_type": "markdown",
      "source": [
        "Quando importamos com os testes completos ali, ele imprime os resultados, exemplo:"
      ],
      "metadata": {
        "id": "BBfZdo3BZWf3"
      }
    },
    {
      "cell_type": "markdown",
      "source": [
        "import televisao\n",
        "(ele exibe o programa COMPLETO, não apenas a funcionalidade do método/função/classe)\n",
        "\n",
        ">Quando utilizamos if __name__ == ‘__main__’:\n",
        ">\n",
        ">dizemos para o módulo verificar o que está ou não sendo executado no ambiente principal, se for, ele executa o restante das linhas. Sendo assim, quando importarmos o módulo, não teremos o erro da primeira vez, de ir diretamente os resultados e não apenas a classe para a manipulação!\n",
        "\n",
        "eu posso utilzar o from (nome do modulo) import (nome da class), para importar apenas uma classe específica, quando temos diversas classes num módulo.\n",
        "\n",
        "Outro exemplo de calculadora utilizando classe, laço de repetição e condicional."
      ],
      "metadata": {
        "id": "-FOqH5L4Zl1W"
      }
    },
    {
      "cell_type": "code",
      "source": [
        "class Calculadora:\n",
        "    def soma(self, a, b):\n",
        "        return a + b       \n",
        "    def sub(self, a, b):\n",
        "        return a - b\n",
        "    def mult(self, a, b):\n",
        "        return a * b\n",
        "    def div(self, a, b):\n",
        "        return a / b\n",
        "\n",
        "calculadora = Calculadora()\n",
        "print('Soma [1], Subtração[2], Multiplcação[3], Divisão[4]')\n",
        "op = int(input('Qual operação deseja realizar?: '))\n",
        "\n",
        "while op < 1 or op > 4:\n",
        "    print('-------------------------')\n",
        "    print('Insira um valor válido!')\n",
        "    print('-------------------------')\n",
        "    print('Soma [1], Subtração[2], Multiplcação[3], Divisão[4]')\n",
        "    op = int(input('Qual operação deseja realizar?: '))\n",
        "\n",
        "if op == 1:\n",
        "    a = float(input('Insira o primeiro valor:'))\n",
        "    b = float(input('Insira o segundo valor:'))\n",
        "    print('O resultado da soma é: {}'.format(calculadora.soma(a, b)))\n",
        "elif op == 2:\n",
        "    a = float(input('Insira o primeiro valor:'))\n",
        "    b = float(input('Insira o segundo valor:'))\n",
        "    print('O resultado da subtração é: {}'.format(calculadora.sub(a, b)))    \n",
        "elif op == 3:\n",
        "    a = float(input('Insira o primeiro valor:'))\n",
        "    b = float(input('Insira o segundo valor:'))\n",
        "    print('O resultado da multiplicação é: {}'.format(calculadora.mult(a, b)))\n",
        "elif op == 4:\n",
        "    a = float(input('Insira o primeiro valor:'))\n",
        "    b = float(input('Insira o segundo valor:'))\n",
        "    print('O resultado da divisão é: {}'.format(calculadora.div(a, b)))"
      ],
      "metadata": {
        "colab": {
          "base_uri": "https://localhost:8080/"
        },
        "id": "KT9X3CIhaAYm",
        "outputId": "e22ddd04-2b69-40a7-e5e0-85d2e6fec941"
      },
      "execution_count": 22,
      "outputs": [
        {
          "output_type": "stream",
          "name": "stdout",
          "text": [
            "Soma [1], Subtração[2], Multiplcação[3], Divisão[4]\n",
            "Qual operação deseja realizar?: 3\n",
            "Insira o primeiro valor:4\n",
            "Insira o segundo valor:5\n",
            "O resultado da multiplicação é: 20.0\n"
          ]
        }
      ]
    },
    {
      "cell_type": "markdown",
      "source": [
        "##Gere, Copie, Mova, Escreva e Leia informações de arquivos externos"
      ],
      "metadata": {
        "id": "smHWnOeBaEd1"
      }
    },
    {
      "cell_type": "markdown",
      "source": [
        "Utilizando o Open conseguimos criar um arquivo que não existe ou abrir um já existente e podemos endereçar para armazenar em algum lugar diferente.\n",
        "\n",
        "exemplo:\n",
        "\n",
        "open(’teste’, ‘w) = ele abre um arquivo chamado Teste e o ‘w’ serve para escrever em um NOVO arquivo. \n",
        "\n",
        "exemplo:\n",
        "\n",
        "arquivo = open(’teste’, ‘w’)\n",
        "\n",
        "arquivo.write(’print(”hello world”)\n",
        "\n",
        "arquivo.close() = para fechar a abertura do arquivo\n",
        "\n",
        "Se você quiser escrever algo em um arquivo que JÁ existe, utilizamos o ‘a’.\n",
        "\n",
        "Se quiser ler um arquivo, ‘r’.\n",
        "\n",
        "Aqui vão dois exemplos desse módulo:\n",
        "\n",
        "Simples"
      ],
      "metadata": {
        "id": "DA0lgLwcaHvN"
      }
    },
    {
      "cell_type": "code",
      "source": [
        "#dentro do open eu também posso adicionar o endereço de onde eu quero armazenar meu arquivo.\n",
        "#o 'w' é utilizado para a escrita de um arquivo NOVO, caso queira escrever algo em um arquivo já existente, utilizamos 'a'\n",
        "#aqui eu criei dois métodos, um com 'w' para escrever o arquivo e o outro com 'a' para 'editar' o arquivo\n",
        "def escrever_arquivo(texto):\n",
        "    arquivo = open('teste.py', 'w')\n",
        "    arquivo.write(texto)\n",
        "    arquivo.close()\n",
        "\n",
        "def acrescentar(texto):\n",
        "    arquivo = open('teste.py', 'a') \n",
        "    arquivo.write(texto)\n",
        "    arquivo.close()\n",
        "\n",
        "#Aqui temos um método para a leitura de um arquivo utilizando o 'r' de read.\n",
        "def ler_arquivo(nome_arquivo):\n",
        "    arquivo = open(nome_arquivo, 'r')\n",
        "    texto = arquivo.read()\n",
        "    print(texto)\n",
        "\n",
        "#Aqui eu chamo os métodos dentro da main, pois se eu quiser utilizá-los em outros algoritimos, não terei problemas.\n",
        "if __name__ == '__main__':\n",
        "    #escrever_arquivo('print(\"Hello World\")')\n",
        "    #acrescentar('\\nprint(\"Adele cantora da geracao\")')\n",
        "    ler_arquivo('teste.py')"
      ],
      "metadata": {
        "id": "QVjHBD4baIV9"
      },
      "execution_count": null,
      "outputs": []
    },
    {
      "cell_type": "markdown",
      "source": [
        "Mais complexo"
      ],
      "metadata": {
        "id": "kke7DhIsaKuQ"
      }
    },
    {
      "cell_type": "code",
      "source": [
        "#Esse programa escreve um arquivo automaticamente (ou utiliza um já pronto) com a nota de quantos alunos você quiser, separadas por vírgula, \n",
        "#ele também retorna a média desses alunos. Basta importar!\n",
        "#OBS: QUEBREI MUITO A CABEÇA FAZENDOOOOOOOOoooo\n",
        "\n",
        "def escrever_arquivo(nome_arquivo, texto):\n",
        "    arquivo = open(nome_arquivo, 'a')\n",
        "    arquivo.write(texto)\n",
        "    arquivo.close()\n",
        "\n",
        "\n",
        "def ler_arquivo(nome_arquivo):\n",
        "    arquivo = open(nome_arquivo, 'r')\n",
        "    texto = arquivo.read()\n",
        "    print(texto)\n",
        "\n",
        "\n",
        "def media_notas(nome_arquivo):\n",
        "    arquivo = open(nome_arquivo, 'r')\n",
        "    nota_aluno = arquivo.read()\n",
        "    nota_aluno = nota_aluno.split('\\n')\n",
        "    for x in nota_aluno:\n",
        "        lista_notas = x.split(',')\n",
        "        aluno = lista_notas.pop(0)\n",
        "        soma_notas = 0\n",
        "        n_notas = 0\n",
        "        for x in lista_notas:\n",
        "            nota = float(x)\n",
        "            soma_notas += nota\n",
        "            n_notas += 1\n",
        "            media = soma_notas / n_notas\n",
        "\n",
        "    print('A média de {} é: %.2f'.format(aluno) % (media))\n",
        "        \n",
        "\n",
        "if __name__ == '__main__':\n",
        "    a = int(input('Quantos alunos deseja adicionar?: '))\n",
        "    for x in range(0, a):\n",
        "        aluno = input('Nome e nota:')\n",
        "        escrever_arquivo('Notas.py', '{}\\n'.format(aluno))\n",
        "        media_notas('Notas.py')"
      ],
      "metadata": {
        "id": "jWrkG8RDaMqF"
      },
      "execution_count": null,
      "outputs": []
    },
    {
      "cell_type": "markdown",
      "source": [
        "A complexidade desse segundo algoritmo se deu porque eu não aprendi a executar lambda direito, eu teria economizado muito mais tempo e dor de cabeça se eu soubesse manipular."
      ],
      "metadata": {
        "id": "oPDStQXuaOe2"
      }
    },
    {
      "cell_type": "markdown",
      "source": [
        "#Utilizando data e hora e relacionando datas diferentes"
      ],
      "metadata": {
        "id": "XEGBO6QeaP5t"
      }
    },
    {
      "cell_type": "markdown",
      "source": [
        "Temos uma função DATETIME no python, que serve para observarmos a data e a hora, dentro dela existem várias diretrizes que podem ser utilizadas como parâmetro, podemos observar isso na biblioteca do python. \n",
        "\n",
        "É interessante convertermos todos os dados de data e hora, para organização e tratamento dos dados.\n",
        "\n",
        "Exemplo de manipulação de data e hora."
      ],
      "metadata": {
        "id": "CyJDYWRBaSyN"
      }
    },
    {
      "cell_type": "code",
      "source": [
        "from datetime import date, time, datetime, timedelta\n",
        "\n",
        "def data():\n",
        "    data_atual = date.today()\n",
        "    print(data_atual.strftime('%d/%B/%Y'))\n",
        "    print(data_atual.strftime('%A'))\n",
        "\n",
        "def tempo():\n",
        "    horario = time(hour=15, minute=18, second=30)\n",
        "    print(horario.strftime('%H:%M:%S'))\n",
        "\n",
        "def dataEhora():\n",
        "    data_e_hora = datetime.now()\n",
        "    print(data_e_hora.strftime('Data: %d/%b/%y  Hora: %H:%M:%S'))\n",
        "    tupla = ('Segunda', 'Terça', 'Quarta', 'Quinta', 'Sexta', 'Sábado', 'Domingo')\n",
        "    print(tupla[data_e_hora.weekday()])\n",
        "    #Diminuindo um ano!\n",
        "    novadata = data_e_hora - timedelta(days=365)\n",
        "    print(novadata.strftime('Data: %d/%b/%y  Hora: %H:%M:%S'))\n",
        "\n",
        "if __name__ == '__main__':\n",
        "    #data()\n",
        "    #tempo()\n",
        "    dataEhora()"
      ],
      "metadata": {
        "id": "rAxkWkgGaXOt"
      },
      "execution_count": null,
      "outputs": []
    },
    {
      "cell_type": "markdown",
      "source": [
        "##Aprendendo a utilizar tratamento de exceções "
      ],
      "metadata": {
        "id": "pgY4YIl8aYm9"
      }
    },
    {
      "cell_type": "markdown",
      "source": [
        "Podemos tratar de diversos erros utilizando exceções!\n",
        "\n",
        "Por exemplo, um erro de divisão por zero:"
      ],
      "metadata": {
        "id": "59CJI9gvaawO"
      }
    },
    {
      "cell_type": "code",
      "source": [
        "try:\n",
        "    divisao = 10/0\n",
        "except ZeroDivisionError:\n",
        "    print('Não é possível realizar uma divisão por Zero')"
      ],
      "metadata": {
        "id": "TIiuHhUPab_A"
      },
      "execution_count": null,
      "outputs": []
    },
    {
      "cell_type": "markdown",
      "source": [
        "Uma forma de tratar erros genéricos é apenas com o except, exemplo:"
      ],
      "metadata": {
        "id": "SuUsS-bAadHG"
      }
    },
    {
      "cell_type": "code",
      "source": [
        "lista = [1, 10]\n",
        "\n",
        "try:\n",
        "    divisao = 10/1\n",
        "    numero = lista[3]\n",
        "except ZeroDivisionError:\n",
        "    print('Não é possível realizar uma divisão por Zero')\n",
        "except:\n",
        "    print('Erro genérico')"
      ],
      "metadata": {
        "id": "yX-4FK0IaeH1"
      },
      "execution_count": null,
      "outputs": []
    },
    {
      "cell_type": "markdown",
      "source": [
        "Aqui teríamos um erro de Index, mas, com o except encadeado, podemos alertar qualquer erro rapidamente."
      ],
      "metadata": {
        "id": "O5G_DVS-afjW"
      }
    },
    {
      "cell_type": "code",
      "source": [
        "except BaseException as ex:\n",
        "    print('Erro desconhecido. Erro: {}'.format(ex))"
      ],
      "metadata": {
        "id": "MkGN9Qjyag68"
      },
      "execution_count": null,
      "outputs": []
    },
    {
      "cell_type": "markdown",
      "source": [
        "Podemos utilizar o BaseException que é o pai de todos os erros, para especificar qual o tipo de erro em uma mensagem! Geralmente utilizamos apenas o Exception, pois é incomum erros na parte de cima da hierarquia. Dá basicamente na mesma coisa, mas…\n",
        "Podemos utilizar a biblioteca do Python para aprender melhor essas exceções e suas Hierarquias! "
      ],
      "metadata": {
        "id": "S2UyST3waiSM"
      }
    },
    {
      "cell_type": "markdown",
      "source": [
        "Agora iremos criar uma classe de exceção! \n",
        "\n",
        "Primeiro precisamos criar uma class Error(Exception):\n",
        "É uma classe que herda de exception"
      ],
      "metadata": {
        "id": "qK_jQl-saqod"
      }
    },
    {
      "cell_type": "code",
      "source": [
        "class Error(Exception):\n",
        "    pass"
      ],
      "metadata": {
        "id": "oOGT_zGsa0xW"
      },
      "execution_count": null,
      "outputs": []
    },
    {
      "cell_type": "markdown",
      "source": [
        "Depois criamos outra que herda de Error, exemplo\n",
        "\n",
        "class InputError(Error):"
      ],
      "metadata": {
        "id": "0rkffhvJa2Z-"
      }
    },
    {
      "cell_type": "code",
      "source": [
        "class InputError(Error):\n",
        "    def __init__(self, message):\n",
        "        self.message(message)"
      ],
      "metadata": {
        "id": "dYjbkDysa2_Q"
      },
      "execution_count": null,
      "outputs": []
    },
    {
      "cell_type": "markdown",
      "source": [
        "Para forçar uma exceção em Python usamos o comando raise."
      ],
      "metadata": {
        "id": "ejVcVyTPa32O"
      }
    },
    {
      "cell_type": "code",
      "source": [
        "class Error(Exception):\n",
        "    pass\n",
        "\n",
        "class InputError(Error):\n",
        "    def __init__ (self, message):\n",
        "        self.message = message\n",
        "while True:\n",
        "    try:\n",
        "        x = int(input('Entre com um número de 0 a 10: '))\n",
        "        print(x)\n",
        "        if x > 10 or x < 0:\n",
        "            raise InputError('O número é inválido pois não pode ser menor que zero e maior que dez')   \n",
        "        break\n",
        "    except ValueError:\n",
        "        print('Valor inválido, deve-se digitar apenas números inteiros.')\n",
        "    #já temos o erro tratado lá m cima, é só chamar.\n",
        "    except InputError as ex:\n",
        "        print(ex)"
      ],
      "metadata": {
        "id": "y53g2NRaa5DF"
      },
      "execution_count": null,
      "outputs": []
    },
    {
      "cell_type": "markdown",
      "source": [
        "##Instalando e utilizando pacotes em Python e realizando requisição com Request"
      ],
      "metadata": {
        "id": "AS97t39ka7kF"
      }
    },
    {
      "cell_type": "markdown",
      "source": [
        "Pacotes são bibliotecas que nós instalamos para economizar tempo de programação e auxiliar no nosso dia a dia. O pacote utilizado aqui será o Request, biblioteca HTTP para python.\n",
        "\n",
        "Temos o banco de dados open source do google, o Firebase que podemos utilizar para fazer requests.\n",
        "\n",
        "Temos vários comandos. \n",
        "\n",
        "o GET, ele pega as informações\n",
        "\n",
        "o POST, adiciono informações\n",
        "\n",
        "o PATH, edita informações\n",
        "\n",
        "o DELETE, apaga informações\n",
        "\n",
        "*#utilizando o request para importar informações de conversão de moedas de uma api de cotação de moedas*import requests\n",
        "\n",
        "x = requests.get('https://economia.awesomeapi.com.br/last/USD-BRL,EUR-BRL,BTC-BRL')\n",
        "\n",
        "print(x.json())\n",
        "\n",
        "`{'USDBRL': {'code': 'USD', 'codein': 'BRL', 'name': 'Dólar Americano/Real Brasileiro', 'high': '5.3689', 'low': '5.2333', 'varBid': '-0.1105', 'pctChange': '-2.07', 'bid': '5.2389', 'ask': '5.2419', 'timestamp': '1673034215', 'create_date': '2023-01-06 16:43:35'}, 'EURBRL': {'code': 'EUR', 'codein': 'BRL', 'name': 'Euro/Real Brasileiro', 'high': '5.6388', 'low': '5.549', 'varBid': '-0.0502', 'pctChange': '-0.89', 'bid': '5.5763', 'ask': '5.5816', 'timestamp': '1673034218', 'create_date': '2023-01-06 16:43:38'}, 'BTCBRL': {'code': 'BTC', 'codein': 'BRL', 'name': 'Bitcoin/Real Brasileiro', 'high': '90.97', 'low': '89.003', 'varBid': '-1294', 'pctChange': '-1.42', 'bid': '89.569', 'ask': '89.7', 'timestamp': '1673033924', 'create_date': '2023-01-06 16:38:44'}}`"
      ],
      "metadata": {
        "id": "OqhbQagRa9Rt"
      }
    },
    {
      "cell_type": "markdown",
      "source": [
        "Utilizando o POST, PATCH E DELETE, com um banco de dados do Firebase"
      ],
      "metadata": {
        "id": "QQRlLUHTbEGN"
      }
    },
    {
      "cell_type": "markdown",
      "source": [
        "Tenho o projeto explicado no repositório: https://github.com/DiDevv/Utilzando_Biblioteca_Request"
      ],
      "metadata": {
        "id": "3DKHhcU9bL-F"
      }
    }
  ]
}
